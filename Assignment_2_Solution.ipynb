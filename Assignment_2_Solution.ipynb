{
 "cells": [
  {
   "cell_type": "markdown",
   "id": "0cef388c",
   "metadata": {},
   "source": [
    "Q1.What are the two values of the Boolean data type? How do you write them?"
   ]
  },
  {
   "cell_type": "markdown",
   "id": "1b5da56a",
   "metadata": {},
   "source": [
    "Answer: The two different values of Boolean data type are : True and False. They can be written as True"
   ]
  },
  {
   "cell_type": "markdown",
   "id": "c630f969",
   "metadata": {},
   "source": [
    "Q2. What are the three different types of Boolean operators?"
   ]
  },
  {
   "cell_type": "markdown",
   "id": "13bf016e",
   "metadata": {},
   "source": [
    "Answer: The three different types of Boolean operators are:\n",
    "i)AND : This returns true only when both the inputs are true and if either of them is false then the output is false.\n",
    "ii)OR: This returns true when either of them is true else if inputs are false then it will return false\n",
    "iii)NOT: It returns true if the input is false and vice versa.\n"
   ]
  },
  {
   "cell_type": "markdown",
   "id": "77e2bba9",
   "metadata": {},
   "source": [
    "Q3. Make a list of each Boolean operator's truth tables (i.e. every possible combination of Boolean values for the operator and what it evaluate )."
   ]
  },
  {
   "cell_type": "code",
   "execution_count": 1,
   "id": "6238d3a1",
   "metadata": {},
   "outputs": [
    {
     "data": {
      "text/plain": [
       "'Answer: AND:                                       \\nA  B  Output                    \\n0 0  0\\n0 1  0\\n1 0  0\\n1 1  1\\nOR: \\nA B  Output\\n0 0  0\\n0 1  1\\n1 0  1\\n1 1  1\\nNOT:\\nA  Output\\n0  1\\n1  0\\n'"
      ]
     },
     "execution_count": 1,
     "metadata": {},
     "output_type": "execute_result"
    }
   ],
   "source": [
    "'''Answer: AND:                                       \n",
    "A  B  Output                    \n",
    "0 0  0\n",
    "0 1  0\n",
    "1 0  0\n",
    "1 1  1\n",
    "OR: \n",
    "A B  Output\n",
    "0 0  0\n",
    "0 1  1\n",
    "1 0  1\n",
    "1 1  1\n",
    "NOT:\n",
    "A  Output\n",
    "0  1\n",
    "1  0\n",
    "'''"
   ]
  },
  {
   "cell_type": "markdown",
   "id": "c3181dbb",
   "metadata": {},
   "source": [
    "Q4. What are the values of the following expressions?\n",
    "(5 > 4) and (3 == 5)\n",
    "not (5 > 4)\n",
    "(5 > 4) or (3 == 5)\n",
    "not ((5 > 4) or (3 == 5))\n",
    "(True and True) and (True == False)\n",
    "(not False) or (not True)\n"
   ]
  },
  {
   "cell_type": "code",
   "execution_count": 4,
   "id": "1ea3bf14",
   "metadata": {},
   "outputs": [
    {
     "name": "stdout",
     "output_type": "stream",
     "text": [
      "False\n",
      "False\n",
      "True\n",
      "False\n",
      "False\n",
      "True\n"
     ]
    }
   ],
   "source": [
    "#Answer\n",
    "print((5>4) and (3==5))\n",
    "print(not(5>4))\n",
    "print((5>4) or (3==5))\n",
    "print(not(5>4) or (3==5))\n",
    "print((True and True) and (True==False))\n",
    "print((not(False))or(not(True)))"
   ]
  },
  {
   "cell_type": "markdown",
   "id": "a5f957d7",
   "metadata": {},
   "source": [
    "Q5. What are the six comparison operators?"
   ]
  },
  {
   "cell_type": "markdown",
   "id": "7c7bfd50",
   "metadata": {},
   "source": [
    "Answer: Following are the six comparison operators:\n",
    "1) Less than (<)\n",
    "2) Greater than(>)\n",
    "3) Less than or equal to(<=)\n",
    "4) Greater than or equal to(>=)\n",
    "5) Equal to(==) \n",
    "6) Not equal to (!=)"
   ]
  },
  {
   "cell_type": "markdown",
   "id": "aca8e88a",
   "metadata": {},
   "source": [
    "Q6. How do you tell the difference between the equal to and assignment operators?Describe a condition and when you would use one."
   ]
  },
  {
   "cell_type": "markdown",
   "id": "f78e54c5",
   "metadata": {},
   "source": [
    "Answer: We use = as an assignment operator which is used to assign any value and we use == as a comparison operator that is used to compare two operands. "
   ]
  },
  {
   "cell_type": "code",
   "execution_count": 6,
   "id": "b68b4459",
   "metadata": {},
   "outputs": [
    {
     "name": "stdout",
     "output_type": "stream",
     "text": [
      "1\n",
      "False\n"
     ]
    }
   ],
   "source": [
    "#E.g.\n",
    "#Assignment operator\n",
    "a=1\n",
    "print(a)\n",
    "#Comparison operator\n",
    "if(1==2):\n",
    "    print(\"True\")\n",
    "else:\n",
    "    print(\"False\")\n",
    "\n"
   ]
  },
  {
   "cell_type": "markdown",
   "id": "a6fb71a1",
   "metadata": {},
   "source": [
    "Q7. Identify the three blocks in this code:\n",
    "spam = 0\n",
    "if spam == 10:\n",
    "print('eggs')\n",
    "if spam > 5:\n",
    "print('bacon')\n",
    "else:\n",
    "print('ham')\n",
    "print('spam')\n",
    "print('spam')\n"
   ]
  },
  {
   "cell_type": "code",
   "execution_count": null,
   "id": "2397d05a",
   "metadata": {},
   "outputs": [],
   "source": [
    "spam = 0\n",
    "if spam == 10:\n",
    "    print('eggs') #First Block\n",
    "if spam > 5:\n",
    "    print('bacon') #Second Block\n",
    "else:\n",
    "    print('ham') #Third Block\n",
    "    print('spam')\n",
    "    print('spam')"
   ]
  },
  {
   "cell_type": "markdown",
   "id": "fb312656",
   "metadata": {},
   "source": [
    "Q8. Write code that prints Hello if 1 is stored in spam, prints Howdy if 2 is stored in spam, and prints Greetings! if anything else is stored in spam."
   ]
  },
  {
   "cell_type": "code",
   "execution_count": null,
   "id": "f977954f",
   "metadata": {},
   "outputs": [],
   "source": [
    "spam=int(input(\"Enter a number to print:\"))\n",
    "if spam==1:\n",
    "    print(\"Hello\")\n",
    "elif spam==2:\n",
    "    print(\"Howdy\")\n",
    "else:\n",
    "    print(\"Greetings!\")"
   ]
  },
  {
   "cell_type": "markdown",
   "id": "cd75baf4",
   "metadata": {},
   "source": [
    "Q9.If your programme is stuck in an endless loop, what keys you’ll press?"
   ]
  },
  {
   "cell_type": "markdown",
   "id": "d22dc4ab",
   "metadata": {},
   "source": [
    "Answer: If the programme is stucked in an endless loop then we can restart our jupyter notebook kernel or we can press ctrl + c "
   ]
  },
  {
   "cell_type": "markdown",
   "id": "ce776d18",
   "metadata": {},
   "source": [
    "Q10. How can you tell the difference between break and continue?"
   ]
  },
  {
   "cell_type": "markdown",
   "id": "0ea3473f",
   "metadata": {},
   "source": [
    "Answer: Break keyword terminates the rest of the remaining iterations of the loop, while the continue keyword terminates only the current iteration of the loop and executes the next iteration in the loop.\n"
   ]
  },
  {
   "cell_type": "code",
   "execution_count": 14,
   "id": "1c785fd9",
   "metadata": {},
   "outputs": [
    {
     "name": "stdout",
     "output_type": "stream",
     "text": [
      "I\n",
      "n\n",
      "e\n",
      "u\n",
      "This is example of Break statement\n"
     ]
    }
   ],
   "source": [
    "#Eg. for Break statement\n",
    "s=\"Ineuron\"\n",
    "for i in s:\n",
    "    if i==\"r\":\n",
    "         break\n",
    "    print(i)\n",
    "print(\"This is example of Break statement\")"
   ]
  },
  {
   "cell_type": "code",
   "execution_count": 13,
   "id": "5703a31e",
   "metadata": {},
   "outputs": [
    {
     "name": "stdout",
     "output_type": "stream",
     "text": [
      "I\n",
      "n\n",
      "e\n",
      "u\n",
      "o\n",
      "n\n",
      "This is example of Continue statement\n"
     ]
    }
   ],
   "source": [
    "#Eg. for Continue statement\n",
    "s=\"Ineuron\"\n",
    "for i in s:\n",
    "    if i==\"r\":\n",
    "         continue\n",
    "    print(i)\n",
    "print(\"This is example of Continue statement\")"
   ]
  },
  {
   "cell_type": "markdown",
   "id": "8c247ad2",
   "metadata": {},
   "source": [
    "Q11. In a for loop, what is the difference between range(10), range(0, 10), and range(0, 10, 1)?"
   ]
  },
  {
   "cell_type": "code",
   "execution_count": 22,
   "id": "c2e26a71",
   "metadata": {},
   "outputs": [
    {
     "name": "stdout",
     "output_type": "stream",
     "text": [
      "0\n",
      "1\n",
      "2\n",
      "3\n",
      "4\n",
      "5\n",
      "6\n",
      "7\n",
      "8\n",
      "9\n",
      "This is a output for range(10)\n",
      "0\n",
      "1\n",
      "2\n",
      "3\n",
      "4\n",
      "5\n",
      "6\n",
      "7\n",
      "8\n",
      "9\n",
      "This is a output for range(0,10)\n",
      "0\n",
      "1\n",
      "2\n",
      "3\n",
      "4\n",
      "5\n",
      "6\n",
      "7\n",
      "8\n",
      "9\n",
      "This is a output for (0,10,1)\n",
      "Notes: We can conclude that all of them gives the same output, range(10) call ranges from 0 up to 10 and does not includes 10, range(0, 10) tells to start from 0, and range(0, 10, 1) tells the loop to increase the variable by 1 on each iteration\n"
     ]
    }
   ],
   "source": [
    "for i in range(10):  #For range(10)\n",
    "    print(i)\n",
    "print(\"This is a output for range(10)\")\n",
    "for i in range(0,10):  #For range(0,10)\n",
    "    print(i)\n",
    "print(\"This is a output for range(0,10)\")\n",
    "for i in range(0,10,1):  #For range(0,10,1)\n",
    "    print(i)\n",
    "print(\"This is a output for (0,10,1)\")\n",
    "\n",
    "print(\"Notes: We can conclude that all of them gives the same output, range(10) call ranges from 0 up to 10 and does not includes 10, range(0, 10) tells to start from 0, and range(0, 10, 1) tells the loop to increase the variable by 1 on each iteration\")\n"
   ]
  },
  {
   "cell_type": "markdown",
   "id": "53cb2988",
   "metadata": {},
   "source": [
    "Q12. Write a short program that prints the numbers 1 to 10 using a for loop. Then write an equivalent program that prints the numbers 1 to 10 using a while loop."
   ]
  },
  {
   "cell_type": "code",
   "execution_count": 33,
   "id": "402aebc7",
   "metadata": {},
   "outputs": [
    {
     "name": "stdout",
     "output_type": "stream",
     "text": [
      "1\n",
      "2\n",
      "3\n",
      "4\n",
      "5\n",
      "6\n",
      "7\n",
      "8\n",
      "9\n",
      "10\n"
     ]
    }
   ],
   "source": [
    "for i in range(1,11): # Program that prints the numbers 1 to 10 using a for loop\n",
    "    print(i)"
   ]
  },
  {
   "cell_type": "code",
   "execution_count": 35,
   "id": "300ac289",
   "metadata": {},
   "outputs": [
    {
     "name": "stdout",
     "output_type": "stream",
     "text": [
      "1\n",
      "2\n",
      "3\n",
      "4\n",
      "5\n",
      "6\n",
      "7\n",
      "8\n",
      "9\n",
      "10\n"
     ]
    }
   ],
   "source": [
    "a=1\n",
    "while a<=10:  # Program that prints the numbers 1 to 10 using while loop\n",
    "    print(a)\n",
    "    a=a+1    "
   ]
  },
  {
   "cell_type": "markdown",
   "id": "be60f158",
   "metadata": {},
   "source": [
    "Q13. If you had a function named bacon() inside a module named spam, how would you call it after importing spam?"
   ]
  },
  {
   "cell_type": "markdown",
   "id": "9b8f33b4",
   "metadata": {},
   "source": [
    "Answer: We can call it by spam.bacon()"
   ]
  }
 ],
 "metadata": {
  "kernelspec": {
   "display_name": "Python 3 (ipykernel)",
   "language": "python",
   "name": "python3"
  },
  "language_info": {
   "codemirror_mode": {
    "name": "ipython",
    "version": 3
   },
   "file_extension": ".py",
   "mimetype": "text/x-python",
   "name": "python",
   "nbconvert_exporter": "python",
   "pygments_lexer": "ipython3",
   "version": "3.9.12"
  }
 },
 "nbformat": 4,
 "nbformat_minor": 5
}
