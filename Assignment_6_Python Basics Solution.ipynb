{
 "cells": [
  {
   "cell_type": "markdown",
   "id": "64b56fd6-3de3-4235-a2da-2f5f26707eab",
   "metadata": {},
   "source": [
    "Q1. What are escape characters, and how do you use them?"
   ]
  },
  {
   "cell_type": "markdown",
   "id": "9afdd14b-3164-49cc-9e58-d442c3422fef",
   "metadata": {},
   "source": [
    "Ans: To insert characters that are illegal in a string, use an escape character. An escape character is a backslash \"\\\" followed by the character you want to insert."
   ]
  },
  {
   "cell_type": "code",
   "execution_count": 1,
   "id": "8cfce9de-f440-45b5-87ca-b353bb2cb752",
   "metadata": {},
   "outputs": [
    {
     "data": {
      "text/plain": [
       "'I am doing FSDS from \"INeuron\" and will make transition into DS field.'"
      ]
     },
     "execution_count": 1,
     "metadata": {},
     "output_type": "execute_result"
    }
   ],
   "source": [
    "#Example\n",
    "\"I am doing FSDS from \\\"INeuron\\\" and will make transition into DS field.\""
   ]
  },
  {
   "cell_type": "markdown",
   "id": "aa78307c-7e6b-46bb-9f73-c9de2d90baca",
   "metadata": {},
   "source": [
    "Q2. What do the escape characters n and t stand for?"
   ]
  },
  {
   "cell_type": "markdown",
   "id": "b874f43f-d88e-4acc-877e-43da86ff7d2a",
   "metadata": {},
   "source": [
    "Ans: The escape character \\n stand for New Line & \\t stand for Tab."
   ]
  },
  {
   "cell_type": "code",
   "execution_count": 2,
   "id": "b0674318-b473-4557-9c43-9f46f9c5a147",
   "metadata": {},
   "outputs": [
    {
     "name": "stdout",
     "output_type": "stream",
     "text": [
      "Vishnu\n",
      "Kumar\n"
     ]
    }
   ],
   "source": [
    "### Example for \\n Character\n",
    "name = \"Vishnu\\nKumar\"\n",
    "print(name) "
   ]
  },
  {
   "cell_type": "code",
   "execution_count": 3,
   "id": "f85bb3c2-108a-40e9-8174-8ad661302cfe",
   "metadata": {},
   "outputs": [
    {
     "name": "stdout",
     "output_type": "stream",
     "text": [
      "Vishnu\tKumar\n"
     ]
    }
   ],
   "source": [
    "### Example for \\t Character\n",
    "name = \"Vishnu\\tKumar\"\n",
    "print(name) "
   ]
  },
  {
   "cell_type": "markdown",
   "id": "1b378f9a-14d1-41f3-a40c-29a47d945dc7",
   "metadata": {},
   "source": [
    "Q3. What is the way to include backslash characters in a string?"
   ]
  },
  {
   "cell_type": "markdown",
   "id": "90a1e192-ed62-41a2-85ef-11b9bce37b61",
   "metadata": {},
   "source": [
    "Ans: The best way to insert backlash by the sign \\"
   ]
  },
  {
   "cell_type": "markdown",
   "id": "70edcc5e-d7a3-4c16-a322-d7e8bd8c636d",
   "metadata": {},
   "source": [
    "Q4. The string \"Howl's Moving Castle\" is a correct value. Why isn't the single quote character in the word Howl's not escaped a problem?"
   ]
  },
  {
   "cell_type": "markdown",
   "id": "f25f171f-5b78-44c3-b295-fdbc7d2801fe",
   "metadata": {},
   "source": [
    "Ans: The single quote in Howl's is fine because you've used double quotes to mark the beginning and end of the string. If single quotes is used it will throw syntax error."
   ]
  },
  {
   "cell_type": "markdown",
   "id": "ea53f5fe-1208-459e-8549-3c1b0495f913",
   "metadata": {},
   "source": [
    "Q5. How do you write a string of newlines if you don't want to use the n character?"
   ]
  },
  {
   "cell_type": "markdown",
   "id": "2a772ea1-c285-444c-aeb7-9375aacbd813",
   "metadata": {},
   "source": [
    "Ans: Multiline strings allow you to use newlines in strings without the \\n escape character or use can use print statement."
   ]
  },
  {
   "cell_type": "markdown",
   "id": "bbafc60a-2df3-43dc-a0de-61dff52216d5",
   "metadata": {},
   "source": [
    "Q6. What are the values of the given expressions?\n",
    "'Hello, world!'[1]\n",
    "\n",
    "'Hello, world!'[0:5]\n",
    "\n",
    "'Hello, world!'[:5]\n",
    "\n",
    "'Hello, world!'[3:]"
   ]
  },
  {
   "cell_type": "code",
   "execution_count": 4,
   "id": "7bac2b33-6e3c-492f-9f27-8793b79a1fd9",
   "metadata": {},
   "outputs": [
    {
     "name": "stdout",
     "output_type": "stream",
     "text": [
      "e\n",
      "Hello\n",
      "Hello\n",
      "lo, world!\n"
     ]
    }
   ],
   "source": [
    "#Ans: \n",
    "print('Hello, world!'[1])\n",
    "print('Hello, world!'[0:5])\n",
    "print('Hello, world!'[:5])\n",
    "print('Hello, world!'[3:])\n",
    "     "
   ]
  },
  {
   "cell_type": "markdown",
   "id": "e7569613-6232-4834-b9d6-15d76db24de4",
   "metadata": {},
   "source": [
    "Q7. What are the values of the following expressions?\n",
    "\n",
    "'Hello'.upper()\n",
    "\n",
    "'Hello'.upper().isupper()\n",
    "\n",
    "'Hello'.upper().lower()"
   ]
  },
  {
   "cell_type": "code",
   "execution_count": 5,
   "id": "d7cf8bde-7467-4e83-81e9-b3f1096390cb",
   "metadata": {},
   "outputs": [
    {
     "name": "stdout",
     "output_type": "stream",
     "text": [
      "HELLO\n",
      "True\n",
      "hello\n"
     ]
    }
   ],
   "source": [
    "#Ans: \n",
    "print('Hello'.upper())\n",
    "print('Hello'.upper().isupper())\n",
    "print('Hello'.upper().lower())"
   ]
  },
  {
   "cell_type": "markdown",
   "id": "b63e086c-a695-494f-bf8a-6846d7d69993",
   "metadata": {},
   "source": [
    "Q8. What are the values of the following expressions?\n",
    "'Remember, remember, the fifth of July.'.split()\n",
    "\n",
    "'-'.join('There can only one.'.split())"
   ]
  },
  {
   "cell_type": "code",
   "execution_count": 6,
   "id": "f89d2288-4cf9-46c7-b40e-081d8870e793",
   "metadata": {},
   "outputs": [
    {
     "data": {
      "text/plain": [
       "['Remember,', 'remember,', 'the', 'fifth', 'of', 'July.']"
      ]
     },
     "execution_count": 6,
     "metadata": {},
     "output_type": "execute_result"
    }
   ],
   "source": [
    "#Ans: \n",
    "#The Following Statement Will Split The Sentence & Gives Output in List Format\n",
    "'Remember, remember, the fifth of July.'.split()"
   ]
  },
  {
   "cell_type": "code",
   "execution_count": 7,
   "id": "3338118c-92b4-4786-b588-f3807e462009",
   "metadata": {},
   "outputs": [
    {
     "data": {
      "text/plain": [
       "'There-can-only-one.'"
      ]
     },
     "execution_count": 7,
     "metadata": {},
     "output_type": "execute_result"
    }
   ],
   "source": [
    "#The Following Statement Will Split The Sentence & Again join Sentence By '-'\n",
    "'-'.join('There can only one.'.split())"
   ]
  },
  {
   "cell_type": "markdown",
   "id": "5f209ffc-ff01-4688-8e00-77afb1bba51c",
   "metadata": {},
   "source": [
    "Q9. What are the methods for right-justifying, left-justifying, and centering a string?"
   ]
  },
  {
   "cell_type": "markdown",
   "id": "b74e6326-4b1e-4c0c-af30-c9bb785d027a",
   "metadata": {},
   "source": [
    "Ans: The rjust(), ljust(), and center() string methods, respectively."
   ]
  },
  {
   "cell_type": "code",
   "execution_count": 8,
   "id": "e0e7af90-22e9-4419-95ef-37048259a641",
   "metadata": {},
   "outputs": [
    {
     "name": "stdout",
     "output_type": "stream",
     "text": [
      "My Name Is         Vishnu Kumar\n",
      "Vishnu Kumar         Is My Name\n",
      "    Vishnu Kumar    \n"
     ]
    }
   ],
   "source": [
    "#rjust() string methods\n",
    "txt='Vishnu Kumar'\n",
    "x = txt.rjust(20)\n",
    "print('My Name Is',x)\n",
    "\n",
    "#ljust() string methods\n",
    "txt='Vishnu Kumar'\n",
    "x = txt.ljust(20)\n",
    "print(x, 'Is My Name')\n",
    "\n",
    "#center() string methods\n",
    "txt='Vishnu Kumar'\n",
    "x = txt.center(20)\n",
    "print(x)"
   ]
  },
  {
   "cell_type": "markdown",
   "id": "b888d76b-8c24-4932-b43b-e1ada87ba5c9",
   "metadata": {},
   "source": [
    "Q10. What is the best way to remove whitespace characters from the start or end?"
   ]
  },
  {
   "cell_type": "markdown",
   "id": "2d918670-6fcd-4254-9993-45ac037c050f",
   "metadata": {},
   "source": [
    "Ans: The lstrip() and rstrip() methods remove whitespace from the left and right ends of a string, respectively."
   ]
  }
 ],
 "metadata": {
  "kernelspec": {
   "display_name": "Python 3 (ipykernel)",
   "language": "python",
   "name": "python3"
  },
  "language_info": {
   "codemirror_mode": {
    "name": "ipython",
    "version": 3
   },
   "file_extension": ".py",
   "mimetype": "text/x-python",
   "name": "python",
   "nbconvert_exporter": "python",
   "pygments_lexer": "ipython3",
   "version": "3.10.6"
  }
 },
 "nbformat": 4,
 "nbformat_minor": 5
}
