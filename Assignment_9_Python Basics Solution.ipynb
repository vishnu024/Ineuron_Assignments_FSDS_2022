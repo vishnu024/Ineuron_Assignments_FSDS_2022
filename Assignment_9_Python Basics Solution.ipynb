{
 "cells": [
  {
   "cell_type": "markdown",
   "id": "7a719726",
   "metadata": {},
   "source": [
    "Q1.To what does a relative path refer?"
   ]
  },
  {
   "cell_type": "markdown",
   "id": "78b0cd42-0201-40c3-9ac9-ebe91743ad79",
   "metadata": {},
   "source": [
    "Ans: The relative path is the path to some file with respect to your current working directory (PWD).  \n",
    "E.g. if Absolute path to a file called stuff.txt is: `C:/users/admin/docs/stuff.txt` If my PWD is `C:/users/admin/` , then the relative path to `stuff.txt` would be: `docs/stuff.txt`       \n",
    "Note: PWD + relative path = absolute path"
   ]
  },
  {
   "cell_type": "markdown",
   "id": "1e5a7601",
   "metadata": {},
   "source": [
    "Q2.Where does an absolute path start with your Operating System?\n"
   ]
  },
  {
   "cell_type": "markdown",
   "id": "39626ac6-bce5-420f-b84d-abf298ff32d6",
   "metadata": {},
   "source": [
    "Ans: In Linux based systems the absolute path starts with `/`. Where as in Windows based systems absolute path starts with `C:`"
   ]
  },
  {
   "cell_type": "markdown",
   "id": "20cf4bf7",
   "metadata": {},
   "source": [
    "Q3.What does the functions `os.getcwd()` and `os.chdir()` do?\n"
   ]
  },
  {
   "cell_type": "markdown",
   "id": "da1e11ae-4091-4b6c-a19a-c361bc4b9eb2",
   "metadata": {},
   "source": [
    "Ans: `os.getcwd()` method tells us the location of current working directory (CWD). Whereas `os.chdir()` method in Python used to change the current working directory to specified path. These functions are similar to linux commands `pwd` and `cd`"
   ]
  },
  {
   "cell_type": "code",
   "execution_count": 8,
   "id": "b45b79f1",
   "metadata": {},
   "outputs": [
    {
     "name": "stdout",
     "output_type": "stream",
     "text": [
      "/home/jovyan/work\n",
      "/home/jovyan/work\n"
     ]
    }
   ],
   "source": [
    "import os\n",
    "print(os.getcwd()) # Prints the current Working Directory\n",
    "path = r'/home/jovyan/work'\n",
    "os.chdir(path)\n",
    "print(os.getcwd())"
   ]
  },
  {
   "cell_type": "markdown",
   "id": "ef89a436",
   "metadata": {},
   "source": [
    "Q4.What are `.` and `..`  folders?"
   ]
  },
  {
   "cell_type": "markdown",
   "id": "ec11d81a-9e45-4f9e-9944-fc0c3acd6990",
   "metadata": {},
   "source": [
    "Ans:`.` Represents the Current Directory Whereas `..` Represents the Parent Directory of the Current Directory  \n",
    "E.g. if the below path is my absolute path: `C:\\\\Users\\\\vishnu\\\\Documents\\\\iNeuron-Assignments\\\\Python Basic Assignment`  Then `.` represents the path `C:\\\\Users\\\\vishnu\\\\Documents\\\\iNeuron-Assignments\\\\Python Basic Assignment`  \n",
    "Where as `..` represents the path `C:\\\\Users\\\\vishnu\\\\Documents\\\\iNeuron-Assignments`"
   ]
  },
  {
   "cell_type": "markdown",
   "id": "dc9559e2",
   "metadata": {},
   "source": [
    "Q5.In `C:\\bacon\\eggs\\spam.txt` which part is the dir name and which part is the base name ?"
   ]
  },
  {
   "cell_type": "markdown",
   "id": "3fa2fbc3-6741-4ea2-b6bf-51e9974bf588",
   "metadata": {},
   "source": [
    "Ans: For `C:\\bacon\\eggs\\spam.txt`  \n",
    "The dir name is `C:\\\\bacon\\\\eggs`  \n",
    "The Base name is `spam.txt`"
   ]
  },
  {
   "cell_type": "code",
   "execution_count": 9,
   "id": "3e63e793",
   "metadata": {},
   "outputs": [
    {
     "name": "stdout",
     "output_type": "stream",
     "text": [
      "\n",
      "C:\\bacon\\eggs\\spam.txt\n"
     ]
    }
   ],
   "source": [
    "import os\n",
    "path = r'C:\\bacon\\eggs\\spam.txt'\n",
    "print(os.path.dirname(path))\n",
    "print(os.path.basename(path))"
   ]
  },
  {
   "cell_type": "markdown",
   "id": "edb97d1b",
   "metadata": {},
   "source": [
    "Q6.What are the three `mode` arguments that can be passed to the `open()` function ?"
   ]
  },
  {
   "cell_type": "markdown",
   "id": "00cf61b8-e59f-40b2-804b-7fad69761fa4",
   "metadata": {},
   "source": [
    "Ans: A file can be Accessed in python using `open()` function. open function takes two arguments filename and mode of operation (optional). if mode is not provided the default mode of opening is read mode   \n",
    "So, the syntax being: **`open(filename, mode)`**\n",
    "`‘r’`– Read Mode: This is the default mode for open(). The file is opened and a pointer is positioned at the beginning of the file’s content.\n",
    "`‘w’` – Write Mode: Using this mode will overwrite any existing content in a file. If the given file does not exist, a new one will be created. \n",
    "`‘r+’` – Read/Write Mode: Use this mode if you need to simultaneously read and write to a file.\n",
    "`‘a’` – Append Mode: With this mode the user can append the data without overwriting any already existing data in the file. \n",
    "`‘a+’` – Append and Read Mode: In this mode you can read and append the data without overwriting the original file.\n",
    "`‘x’` – Exclusive Creating Mode: This mode is for the sole purpose of creating new files. Use this mode if you know the file to be written doesn’t exist beforehand."
   ]
  },
  {
   "cell_type": "markdown",
   "id": "a6250b7d",
   "metadata": {},
   "source": [
    "Q7.What happens if an existing file is opened in write mode ?"
   ]
  },
  {
   "cell_type": "markdown",
   "id": "c693a16b-69c0-4470-bfee-fb7b6b58f716",
   "metadata": {},
   "source": [
    "Ans: Using this mode will overwrite any existing content in a file. If the given file does not exist, a new one will be created."
   ]
  },
  {
   "cell_type": "markdown",
   "id": "e76da392",
   "metadata": {},
   "source": [
    "Q8.How do you tell the difference between `read()` and `readlines()` ?"
   ]
  },
  {
   "cell_type": "markdown",
   "id": "5bcf73a5-86f9-4972-b40b-07eba0d704bc",
   "metadata": {},
   "source": [
    "Ans:The main difference is that **`read()`** will read the whole file at once and then print out the first characters that take up as many bytes as you specify in the parenthesis Whereas the `readline()` that will read and print out only the first characters that take up as many bytes as you specify in the parenthesis. You may want to use readline() when you're reading files that are too big for your RAM. The `read()` would treat each character in the file separately, meaning that the iteration would happen for every character.\n",
    "The `readline()` function, on the other hand, only reads a single line of the file. This means that if the first line of the file were three lines long, the readline() function would only parse (or iterate/operate) on the first line of the file."
   ]
  },
  {
   "cell_type": "markdown",
   "id": "9e161992",
   "metadata": {},
   "source": [
    "Q9.What data structure does a shelf value resemble ?"
   ]
  },
  {
   "cell_type": "markdown",
   "id": "a1c15da5-f869-4181-8000-0fec0a66a9a7",
   "metadata": {},
   "source": [
    "Ans: it contains key and values it represents dictionary."
   ]
  }
 ],
 "metadata": {
  "kernelspec": {
   "display_name": "Python 3 (ipykernel)",
   "language": "python",
   "name": "python3"
  },
  "language_info": {
   "codemirror_mode": {
    "name": "ipython",
    "version": 3
   },
   "file_extension": ".py",
   "mimetype": "text/x-python",
   "name": "python",
   "nbconvert_exporter": "python",
   "pygments_lexer": "ipython3",
   "version": "3.10.6"
  }
 },
 "nbformat": 4,
 "nbformat_minor": 5
}
