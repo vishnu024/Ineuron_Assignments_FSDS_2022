{
 "cells": [
  {
   "cell_type": "markdown",
   "id": "d31dcadc-b7ab-4b58-bca1-61cf68071953",
   "metadata": {},
   "source": [
    "Q1. What is the name of the feature responsible for generating Regex objects?"
   ]
  },
  {
   "cell_type": "markdown",
   "id": "af743cac-2374-4053-a70a-e0059d25417a",
   "metadata": {},
   "source": [
    "Ans: The re.compile() function returns Regex objects."
   ]
  },
  {
   "cell_type": "markdown",
   "id": "863ebaca-5011-4218-af51-4c3eef9f91ca",
   "metadata": {},
   "source": [
    "Q2. Why do raw strings often appear in Regex objects?"
   ]
  },
  {
   "cell_type": "markdown",
   "id": "1b3dd3bb-8687-4c36-ac4c-c9c65ac9c209",
   "metadata": {},
   "source": [
    "Ans: Raw strings are used so that backslashes do not have to be escaped."
   ]
  },
  {
   "cell_type": "markdown",
   "id": "55884ab8-061a-4729-9a8e-14627e8ea821",
   "metadata": {},
   "source": [
    "Q3. What is the return value of the search() method?"
   ]
  },
  {
   "cell_type": "code",
   "execution_count": 1,
   "id": "cafb5ec2-880c-44bb-8c0c-1861a2cfda47",
   "metadata": {},
   "outputs": [
    {
     "ename": "SyntaxError",
     "evalue": "invalid syntax (1449939242.py, line 1)",
     "output_type": "error",
     "traceback": [
      "\u001b[0;36m  Cell \u001b[0;32mIn [1], line 1\u001b[0;36m\u001b[0m\n\u001b[0;31m    Ans: The search() method returns Match objects.\u001b[0m\n\u001b[0m             ^\u001b[0m\n\u001b[0;31mSyntaxError\u001b[0m\u001b[0;31m:\u001b[0m invalid syntax\n"
     ]
    }
   ],
   "source": [
    "Ans: The search() method returns Match objects."
   ]
  },
  {
   "cell_type": "code",
   "execution_count": null,
   "id": "8a71c752-2837-49b6-baa7-947d33525e0c",
   "metadata": {},
   "outputs": [],
   "source": [
    "#Example\n",
    "#If there is more than one match, only the first occurrence of the match will be returned:\n",
    "import re\n",
    "\n",
    "txt = \"The rain in Spain\"\n",
    "x = re.search(\"\\s\", txt)\n",
    "\n",
    "print(\"The first white-space character is located in position:\", x.start())"
   ]
  },
  {
   "cell_type": "code",
   "execution_count": null,
   "id": "12cb92d4-7b22-4d61-aeb1-d3c227e291b4",
   "metadata": {},
   "outputs": [],
   "source": [
    "#If no matches are found, the value None is returned:\n",
    "import re\n",
    "\n",
    "txt = \"The rain in Spain\"\n",
    "x = re.search(\"Portugal\", txt)\n",
    "print(x)"
   ]
  },
  {
   "cell_type": "markdown",
   "id": "dadb8a48-397b-4e00-8988-9a54ef759582",
   "metadata": {},
   "source": [
    "Q4. From a Match item, how do you get the actual strings that match the pattern?"
   ]
  },
  {
   "cell_type": "markdown",
   "id": "ea71b97f-f754-46a3-9339-a9851829c526",
   "metadata": {},
   "source": [
    "Ans: The group() method returns strings of the matched text."
   ]
  },
  {
   "cell_type": "code",
   "execution_count": null,
   "id": "901b482d-288b-4fa9-ba82-d5721fc141bb",
   "metadata": {},
   "outputs": [],
   "source": [
    "#Example\n",
    "#Search for an upper case \"S\" character in the beginning of a word, and print the word:\n",
    "import re\n",
    "txt = \"The rain in Spain\"\n",
    "x = re.search(r\"\\bS\\w+\", txt)\n",
    "print(x.group())"
   ]
  },
  {
   "cell_type": "markdown",
   "id": "ccdc935f-b69d-439f-bf4f-482f1e76ab5b",
   "metadata": {},
   "source": [
    "Q5. In the regex which created from the r'(\\d\\d\\d)-(\\d\\d\\d-\\d\\d\\d\\d)', what does group zero cover? Group 2? Group 1?"
   ]
  },
  {
   "cell_type": "markdown",
   "id": "465e3d4e-a2dc-4428-8036-6475f9d33ec3",
   "metadata": {},
   "source": [
    "Ans: Group 0 is the entire match, group 1 covers the first set of parentheses, and group 2 covers the second set of parentheses."
   ]
  },
  {
   "cell_type": "code",
   "execution_count": null,
   "id": "75dbdefc-2c6d-41ee-8da8-9976dd121f5f",
   "metadata": {},
   "outputs": [],
   "source": [
    "#Example\n",
    "import re \n",
    "\n",
    "match_object = re.match(r'(\\w+)@(\\w+)\\.(\\w+)', 'vishnu@gmail.com') \n",
    "\n",
    "# for entire match \n",
    "print(match_object.group()) \n",
    "# also print(match_object.group(0)) can be used \n",
    "\n",
    "# for the first parenthesized subgroup \n",
    "print(match_object.group(1)) \n",
    "\n",
    "# for the second parenthesized subgroup \n",
    "print(match_object.group(2)) \n",
    "\n",
    "# for the third parenthesized subgroup \n",
    "print(match_object.group(3)) \n",
    "\n",
    "# for a tuple of all matched subgroups \n",
    "print(match_object.group(1, 2, 3)) "
   ]
  },
  {
   "cell_type": "markdown",
   "id": "b9daae2d-bd57-432e-b12d-8b88d565d2d9",
   "metadata": {},
   "source": [
    "Q6. In standard expression syntax, parentheses and intervals have distinct meanings. How can you tell a regex that you want it to fit real parentheses and periods?"
   ]
  },
  {
   "cell_type": "markdown",
   "id": "d1f92254-254e-4e30-be2e-95995deefb55",
   "metadata": {},
   "source": [
    "Ans: Periods and parentheses can be escaped with a backslash: \\ ., \\ (, and \\ )"
   ]
  },
  {
   "cell_type": "markdown",
   "id": "a591d636-6583-46c3-93ca-17749901a1c3",
   "metadata": {},
   "source": [
    "Q7. The findall() method returns a string list or a list of string tuples. What causes it to return one of the two options?"
   ]
  },
  {
   "cell_type": "markdown",
   "id": "f82fd89c-c824-4be6-8346-5e7b57433d50",
   "metadata": {},
   "source": [
    "Ans: If the regex has no groups, a list of strings is returned. If the regex has groups, a list of tuples of strings is returned. findall() is probably the single most powerful function in the re module. Above we used re.search() to find the first match for a pattern. findall() finds all the matches and returns them as a list of strings, with each string representing one match."
   ]
  },
  {
   "cell_type": "code",
   "execution_count": 2,
   "id": "47e91e17-9649-43d3-b94d-01fd56ac7449",
   "metadata": {},
   "outputs": [
    {
     "ename": "NameError",
     "evalue": "name 're' is not defined",
     "output_type": "error",
     "traceback": [
      "\u001b[0;31m---------------------------------------------------------------------------\u001b[0m",
      "\u001b[0;31mNameError\u001b[0m                                 Traceback (most recent call last)",
      "Cell \u001b[0;32mIn [2], line 5\u001b[0m\n\u001b[1;32m      2\u001b[0m \u001b[38;5;28mstr\u001b[39m \u001b[38;5;241m=\u001b[39m \u001b[38;5;124m'\u001b[39m\u001b[38;5;124mvishnu@gmail.com, vishnu1997@gmail.com kumar srivastava\u001b[39m\u001b[38;5;124m'\u001b[39m\n\u001b[1;32m      4\u001b[0m \u001b[38;5;66;03m## Here re.findall() returns a list of all the found email strings\u001b[39;00m\n\u001b[0;32m----> 5\u001b[0m emails \u001b[38;5;241m=\u001b[39m \u001b[43mre\u001b[49m\u001b[38;5;241m.\u001b[39mfindall(\u001b[38;5;124mr\u001b[39m\u001b[38;5;124m'\u001b[39m\u001b[38;5;124m[\u001b[39m\u001b[38;5;124m\\\u001b[39m\u001b[38;5;124mw\u001b[39m\u001b[38;5;124m\\\u001b[39m\u001b[38;5;124m.-]+@[\u001b[39m\u001b[38;5;124m\\\u001b[39m\u001b[38;5;124mw\u001b[39m\u001b[38;5;124m\\\u001b[39m\u001b[38;5;124m.-]+\u001b[39m\u001b[38;5;124m'\u001b[39m, \u001b[38;5;28mstr\u001b[39m) \u001b[38;5;66;03m## ['borkarm112@gmail.com' 'borkar1121995mayur@gmail.com']\u001b[39;00m\n\u001b[1;32m      6\u001b[0m \u001b[38;5;28;01mfor\u001b[39;00m email \u001b[38;5;129;01min\u001b[39;00m emails:\n\u001b[1;32m      7\u001b[0m   \u001b[38;5;66;03m# do something with each found email string\u001b[39;00m\n\u001b[1;32m      8\u001b[0m   \u001b[38;5;28mprint\u001b[39m(email)\n",
      "\u001b[0;31mNameError\u001b[0m: name 're' is not defined"
     ]
    }
   ],
   "source": [
    "## Suppose we have a text with many email addresses\n",
    "str = 'vishnu@gmail.com, vishnu1997@gmail.com kumar srivastava'\n",
    "\n",
    "## Here re.findall() returns a list of all the found email strings\n",
    "emails = re.findall(r'[\\w\\.-]+@[\\w\\.-]+', str) ## ['borkarm112@gmail.com' 'borkar1121995mayur@gmail.com']\n",
    "for email in emails:\n",
    "  # do something with each found email string\n",
    "  print(email)\n",
    "     "
   ]
  },
  {
   "cell_type": "markdown",
   "id": "ce0405a4-4ce9-4657-9621-df0417958302",
   "metadata": {},
   "source": [
    "Q8. In standard expressions, what does the | character mean?"
   ]
  },
  {
   "cell_type": "markdown",
   "id": "d537d9ba-758e-4f55-ac7e-b9294ee77de3",
   "metadata": {},
   "source": [
    "Ans: The | character signifies matching \"either, or\" between two groups."
   ]
  },
  {
   "cell_type": "code",
   "execution_count": null,
   "id": "0ed7390c-986d-486f-93b1-e6768956283b",
   "metadata": {},
   "outputs": [],
   "source": [
    "import re\n",
    "txt = \"The rain in Spain falls mainly in the plain!\"\n",
    "\n",
    "#Check if the string contains either \"falls\" or \"stays\":\n",
    "x = re.findall(\"falls|stays\", txt)\n",
    "print(x)\n",
    "\n",
    "if x:\n",
    "  print(\"Yes, there is at least one match!\")\n",
    "else:\n",
    "  print(\"No match\")"
   ]
  },
  {
   "cell_type": "markdown",
   "id": "26446539-45e9-4955-98d2-fd4de90d7c08",
   "metadata": {},
   "source": [
    "Q9. In regular expressions, what does the ? character stand for?"
   ]
  },
  {
   "cell_type": "markdown",
   "id": "331b3b1c-58a6-48c6-a230-c887f734bcad",
   "metadata": {},
   "source": [
    "Ans: The ? character can either mean \"match zero or one of the preceding group\" or be used to signify nongreedy matching."
   ]
  },
  {
   "cell_type": "markdown",
   "id": "429dd936-21ec-453d-bee9-2e07062df419",
   "metadata": {},
   "source": [
    "Q10.regular expressions, what is the difference between the + and * characters?"
   ]
  },
  {
   "cell_type": "markdown",
   "id": "fbb34078-72e8-4a02-ab1b-6d0f31ee1641",
   "metadata": {},
   "source": [
    "Ans: The + matches one or more. The * matches zero or more."
   ]
  },
  {
   "cell_type": "code",
   "execution_count": null,
   "id": "c2a35625-a7cc-4dc0-8687-acea984eb999",
   "metadata": {},
   "outputs": [],
   "source": [
    "#Check if the string contains \"ai\" followed by 0 or more \"x\" characters:\n",
    "import re\n",
    "txt = \"The rain in Spain falls mainly in the plain!\"\n",
    "\n",
    "x = re.findall(\"aix*\", txt)\n",
    "print(x)\n",
    "\n",
    "if x:\n",
    "  print(\"Yes, there is at least one match!\")\n",
    "else:\n",
    "  print(\"No match\")"
   ]
  },
  {
   "cell_type": "code",
   "execution_count": null,
   "id": "b361a432-14e1-43fc-b791-37453134b2f8",
   "metadata": {},
   "outputs": [],
   "source": [
    "#Check if the string contains \"ai\" followed by 1 or more \"x\" characters:\n",
    "import re\n",
    "txt = \"The rain in Spain falls mainly in the plain!\"\n",
    "\n",
    "x = re.findall(\"aix+\", txt)\n",
    "print(x)\n",
    "\n",
    "if x:\n",
    "  print(\"Yes, there is at least one match!\")\n",
    "else:\n",
    "  print(\"No match\")\n",
    "     "
   ]
  },
  {
   "cell_type": "markdown",
   "id": "d2623ce3-c7f2-4d85-b128-682bf1357fc9",
   "metadata": {},
   "source": [
    "Q11. What is the difference between {4} and {4,5} in regular expression?"
   ]
  },
  {
   "cell_type": "code",
   "execution_count": null,
   "id": "be8cbe07-8a02-47fe-8c4c-b1805f0bd426",
   "metadata": {},
   "outputs": [],
   "source": [
    "Ans: The {4} matches exactly four instances of the preceding group. The {4,5} matches between four and five instances."
   ]
  },
  {
   "cell_type": "code",
   "execution_count": null,
   "id": "ab0765be-3d23-4004-941b-4d5240242fed",
   "metadata": {},
   "outputs": [],
   "source": [
    "#Check if the string contains \"a\" followed by exactly two \"l\" characters:\n",
    "import re\n",
    "txt = \"The rain in Spain falls mainly in the plain!\"\n",
    "\n",
    "x = re.findall(\"al{2}\", txt)\n",
    "print(x)\n",
    "\n",
    "if x:\n",
    "  print(\"Yes, there is at least one match!\")\n",
    "else:\n",
    "  print(\"No match\")"
   ]
  },
  {
   "cell_type": "code",
   "execution_count": null,
   "id": "1cd95f80-16b0-4363-9016-a4709c78fca2",
   "metadata": {},
   "outputs": [],
   "source": [
    "Q12. What do you mean by the \\d, \\w, and \\s shorthand character classes signify in regular expressions?"
   ]
  },
  {
   "cell_type": "markdown",
   "id": "d31bf0b0-3d85-4244-a322-6ee6d66e939f",
   "metadata": {},
   "source": [
    "Ans: \\d Returns a match where the string contains digits (numbers from 0-9)\n",
    "\n",
    "\\w Returns a match where the string contains any word characters (characters from a to Z, digits from 0-9, and the underscore _ character)\n",
    "\n",
    "\\s Returns a match where the string contains a white space character"
   ]
  },
  {
   "cell_type": "code",
   "execution_count": null,
   "id": "21e4ef96-a638-4e21-b945-e582561c5db5",
   "metadata": {},
   "outputs": [],
   "source": [
    "#Check if the string contains any digits (numbers from 0-9):\n",
    "import re\n",
    "txt = \"The rain in Spain\"\n",
    "\n",
    "x = re.findall(\"\\d\", txt)\n",
    "print(x)\n",
    "\n",
    "if x:\n",
    "  print(\"Yes, there is at least one match!\")\n",
    "else:\n",
    "  print(\"No match\")"
   ]
  },
  {
   "cell_type": "code",
   "execution_count": null,
   "id": "5aa26b2c-d439-4b5a-8563-d38672de3a93",
   "metadata": {},
   "outputs": [],
   "source": [
    "#Return a match at every word character (characters from a to Z, digits from 0-9, and the underscore _ character):\n",
    "import re\n",
    "txt = \"The rain in Spain\"\n",
    "\n",
    "x = re.findall(\"\\w\", txt)\n",
    "print(x)\n",
    "\n",
    "if x:\n",
    "  print(\"Yes, there is at least one match!\")\n",
    "else:\n",
    "  print(\"No match\")"
   ]
  },
  {
   "cell_type": "code",
   "execution_count": null,
   "id": "d5f877f3-a32f-4d19-8b33-67160e126434",
   "metadata": {},
   "outputs": [],
   "source": [
    "#Return a match at every white-space character:\n",
    "import re\n",
    "txt = \"The rain in Spain\"\n",
    "\n",
    "x = re.findall(\"\\s\", txt)\n",
    "print(x)\n",
    "\n",
    "if x:\n",
    "  print(\"Yes, there is at least one match!\")\n",
    "else:\n",
    "  print(\"No match\")"
   ]
  },
  {
   "cell_type": "markdown",
   "id": "b2103df5-4d7e-48ef-9910-68ccb4894dc1",
   "metadata": {},
   "source": [
    "Q13. What do means by \\D, \\W, and \\S shorthand character classes signify in regular expressions?"
   ]
  },
  {
   "cell_type": "markdown",
   "id": "0e017f37-a240-48a8-b162-87dce77841f5",
   "metadata": {},
   "source": [
    "Ans: \\D Returns a match where the string DOES NOT contain digits\n",
    "\n",
    " \\W Returns a match where the string DOES NOT contain any word characters\n",
    " \\S Returns a match where the string DOES NOT contain a white space character"
   ]
  },
  {
   "cell_type": "code",
   "execution_count": null,
   "id": "5cbd510f-865a-423a-a08b-168b7be21584",
   "metadata": {},
   "outputs": [],
   "source": [
    "#Return a match at every no-digit character:\n",
    "import re\n",
    "txt = \"The rain in Spain\"\n",
    "\n",
    "x = re.findall(\"\\D\", txt)\n",
    "print(x)\n",
    "\n",
    "if x:\n",
    "  print(\"Yes, there is at least one match!\")\n",
    "else:\n",
    "  print(\"No match\")"
   ]
  },
  {
   "cell_type": "code",
   "execution_count": null,
   "id": "b76580ec-5ee9-4f03-925b-316afc2e6eaa",
   "metadata": {},
   "outputs": [],
   "source": [
    "#Return a match at every NON word character (characters NOT between a and Z. Like \"!\", \"?\" white-space etc.):\n",
    "import re\n",
    "txt = \"The rain in Spain\"\n",
    "\n",
    "x = re.findall(\"\\W\", txt)\n",
    "print(x)\n",
    "\n",
    "if x:\n",
    "  print(\"Yes, there is at least one match!\")\n",
    "else:\n",
    "  print(\"No match\")"
   ]
  },
  {
   "cell_type": "code",
   "execution_count": null,
   "id": "53e7370b-a3fe-44b4-9efb-f99f4a7dfe9c",
   "metadata": {},
   "outputs": [],
   "source": [
    "#Return a match at every NON white-space character:\n",
    "import re\n",
    "txt = \"The rain in Spain\"\n",
    "\n",
    "x = re.findall(\"\\S\", txt)\n",
    "print(x)\n",
    "\n",
    "if x:\n",
    "  print(\"Yes, there is at least one match!\")\n",
    "else:\n",
    "  print(\"No match\")"
   ]
  },
  {
   "cell_type": "raw",
   "id": "496dc783-f12e-48bb-9c7a-3c664f027ab5",
   "metadata": {},
   "source": [
    "Q14. What is the difference between . and .?"
   ]
  },
  {
   "cell_type": "markdown",
   "id": "66e80dc8-0b1a-4493-91e6-75b3f75521ee",
   "metadata": {},
   "source": [
    "Ans: The . performs a greedy match, and the .? performs a nongreedy match."
   ]
  },
  {
   "cell_type": "markdown",
   "id": "fcee6bd1-87ec-4a1f-8464-1d63d2cb90d0",
   "metadata": {},
   "source": [
    "Q15. What is the syntax for matching both numbers and lowercase letters with a character class?"
   ]
  },
  {
   "cell_type": "markdown",
   "id": "4f14b944-9978-418f-910d-4406582bab76",
   "metadata": {},
   "source": [
    "Ans: 1] The syntax for matching the number is [0-9]--->Returns a match for any digit between 0 and 9.\n",
    "\n",
    "2] The syntax for matching the lowercase letter is [a-zA-Z]---> Returns a match for any character alphabetically between a and z, lower case OR upper case.\n",
    "\n",
    "3] The syntax for matching the both is [0-9a-z] or [a-z0-9]"
   ]
  },
  {
   "cell_type": "code",
   "execution_count": null,
   "id": "250d7165-8951-4eac-a601-790c5131e7d8",
   "metadata": {},
   "outputs": [],
   "source": [
    "# For The Number\n",
    "import re\n",
    "txt = \"8 times before 11:45 AM\"\n",
    "\n",
    "#Check if the string has any digits:\n",
    "x = re.findall(\"[0-9]\", txt)\n",
    "print(x)\n",
    "\n",
    "if x:\n",
    "  print(\"Yes, there is at least one match!\")\n",
    "else:\n",
    "  print(\"No match\")"
   ]
  },
  {
   "cell_type": "code",
   "execution_count": null,
   "id": "08d7a9f8-a557-47bf-8f1b-15c78d21ea75",
   "metadata": {},
   "outputs": [],
   "source": [
    "# For The lower Case letter\n",
    "import re\n",
    "txt = \"8 times before 11:45 AM\"\n",
    "\n",
    "#Check if the string has any digits:\n",
    "x = re.findall(\"[a-zA-Z]\", txt)\n",
    "print(x)\n",
    "\n",
    "if x:\n",
    "  print(\"Yes, there is at least one match!\")\n",
    "else:\n",
    "  print(\"No match\")"
   ]
  },
  {
   "cell_type": "code",
   "execution_count": null,
   "id": "44af81bc-38a6-4047-a39a-af9c58948c88",
   "metadata": {},
   "outputs": [],
   "source": [
    "# For The lower Case letter\n",
    "import re\n",
    "txt = \"8 times before 11:45 AM\"\n",
    "\n",
    "#Check if the string has any digits:\n",
    "x = re.findall(\"[0-9a-z]\", txt)\n",
    "print(x)\n",
    "\n",
    "if x:\n",
    "  print(\"Yes, there is at least one match!\")\n",
    "else:\n",
    "  print(\"No match\")\n"
   ]
  },
  {
   "cell_type": "markdown",
   "id": "c030ed7b-adeb-4a5d-8265-0fcb705f71bf",
   "metadata": {},
   "source": [
    "Q16. What is the procedure for making a normal expression in regax case insensitive?"
   ]
  },
  {
   "cell_type": "markdown",
   "id": "a82eb49e-8f18-4f8e-9198-04193be9aed9",
   "metadata": {},
   "source": [
    "Ans: Passing re.I or re.IGNORECASE as the second argument to re.compile() will make the matching case insensitive."
   ]
  },
  {
   "cell_type": "markdown",
   "id": "b7c4ffd9-59d3-4b90-962a-b5194898ba9f",
   "metadata": {},
   "source": [
    "Q17. What does the . character normally match? What does it match if re.DOTALL is passed as 2nd argument in re.compile()?"
   ]
  },
  {
   "cell_type": "markdown",
   "id": "3d562186-12cf-484b-a151-e7b7af7cd40e",
   "metadata": {},
   "source": [
    "Ans: The . character normally matches any character except the newline character. If re.DOTALL is passed as the second argument to re.compile(), then the dot will also match newline characters."
   ]
  },
  {
   "cell_type": "markdown",
   "id": "f128f816-410e-4372-91a3-8cd63f2d4b05",
   "metadata": {},
   "source": [
    "Q18. If numReg = re.compile(r'\\d+'), what will numRegex.sub('X', '11 drummers, 10 pipers, five rings, 4 hen') return?"
   ]
  },
  {
   "cell_type": "markdown",
   "id": "8ee68125-5a2c-4893-b9bc-00f0584592d4",
   "metadata": {},
   "source": [
    "Ans:  \\d Returns a match where the string contains digits (numbers from 0-9). The return value we get 'X drummers, X pipers, five rings, X hens'"
   ]
  },
  {
   "cell_type": "markdown",
   "id": "cd43a56a-f409-466f-9224-449f87e7db44",
   "metadata": {},
   "source": [
    "Q19. What does passing re.VERBOSE as the 2nd argument to re.compile() allow to do?"
   ]
  },
  {
   "cell_type": "raw",
   "id": "ac0ff6ce-193f-4b68-a3cf-32ba4ed29cba",
   "metadata": {},
   "source": [
    "Ans: The re.VERBOSE argument allows you to add whitespace and comments to the string passed to re.compile()."
   ]
  },
  {
   "cell_type": "markdown",
   "id": "99d202ef-a559-4ddc-8f08-424a2980fe75",
   "metadata": {},
   "source": [
    "Q20. 20. How would you write a regex that matche a number with comma for every three digits? It must match the given following:\n",
    "42'\n",
    "\n",
    "'1,234'\n",
    "\n",
    "'6,368,745'\n",
    "\n",
    "but not the following:\n",
    "\n",
    "'12,34,567' (which has only two digits between the commas)\n",
    "\n",
    "'1234' (which lacks commas)"
   ]
  },
  {
   "cell_type": "raw",
   "id": "51519dfa-603b-48f2-8832-441320f2cc49",
   "metadata": {},
   "source": [
    "Ans: re.compile(r'^\\d{1,3}(,\\d{3})*$') will create this regex, but other regex strings can produce a similar regular expression."
   ]
  },
  {
   "cell_type": "markdown",
   "id": "5d6b53b4-b2f9-4d14-8ae7-1d8d18f94460",
   "metadata": {},
   "source": [
    "Q21. How would you write a regex that matches the full name of someone whose last name is Watanabe? You can assume that the first name that comes before it will always be one word that begins with a capital letter. The regex must match the following:\n",
    "'Haruto Watanabe'\n",
    "\n",
    "'Alice Watanabe'\n",
    "\n",
    "'RoboCop Watanabe'\n",
    "\n",
    "but not the following:\n",
    "\n",
    "'haruto Watanabe' (where the first name is not capitalized)\n",
    "\n",
    "'Mr. Watanabe' (where the preceding word has a nonletter character)\n",
    "\n",
    "'Watanabe' (which has no first name)\n",
    "\n",
    "'Haruto watanabe' (where Watanabe is not capitalized)"
   ]
  },
  {
   "cell_type": "markdown",
   "id": "b2bae765-f01d-4718-9d92-70e958aaa8fb",
   "metadata": {},
   "source": [
    "Ans: re.compile(r'[A-Z][a-z]*\\sWatanabe')"
   ]
  },
  {
   "cell_type": "markdown",
   "id": "0e129f19-02f0-4237-8971-63c16d52917c",
   "metadata": {},
   "source": [
    "Q22. How would you write a regex that matches a sentence where the first word is either Alice, Bob, or Carol; the second word is either eats, pets, or throws; the third word is apples, cats, or baseballs; and the sentence ends with a period? This regex should be case-insensitive. It must match the following:\n",
    "\n",
    "'Alice eats apples.'\n",
    "\n",
    "'Bob pets cats.'\n",
    "\n",
    "'Carol throws baseballs.'\n",
    "\n",
    "'Alice throws Apples.'\n",
    "\n",
    "'BOB EATS CATS.'\n",
    "\n",
    "but not the following:\n",
    "\n",
    "'RoboCop eats apples.'\n",
    "\n",
    "'ALICE THROWS FOOTBALLS.'\n",
    "\n",
    "'Carol eats 7 cats.'"
   ]
  },
  {
   "cell_type": "markdown",
   "id": "9c1bb296-b462-45f6-bde7-6125bca9c6c6",
   "metadata": {},
   "source": [
    "Ans: re.compile(r'(Alice|Bob|Carol)\\s(eats|pets|throws)\\s(apples|cats|baseballs).', re.IGNORECASE)"
   ]
  }
 ],
 "metadata": {
  "kernelspec": {
   "display_name": "Python 3 (ipykernel)",
   "language": "python",
   "name": "python3"
  },
  "language_info": {
   "codemirror_mode": {
    "name": "ipython",
    "version": 3
   },
   "file_extension": ".py",
   "mimetype": "text/x-python",
   "name": "python",
   "nbconvert_exporter": "python",
   "pygments_lexer": "ipython3",
   "version": "3.10.6"
  }
 },
 "nbformat": 4,
 "nbformat_minor": 5
}
